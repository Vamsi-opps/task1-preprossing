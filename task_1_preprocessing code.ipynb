{
  "cells": [
    {
      "cell_type": "markdown",
      "metadata": {
        "id": "view-in-github",
        "colab_type": "text"
      },
      "source": [
        "<a href=\"https://colab.research.google.com/github/Vamsi-opps/task1-preprossing/blob/main/task_1_preprocessing.ipynb\" target=\"_parent\"><img src=\"https://colab.research.google.com/assets/colab-badge.svg\" alt=\"Open In Colab\"/></a>"
      ]
    },
    {
      "cell_type": "code",
      "source": [
        "import pandas as pd\n",
        "\n",
        "# Step 0: Load your input CSV\n",
        "input_file = \"/content/Test.csv\"\n",
        "output_file = \"/content/testnew.csv\"\n",
        "\n",
        "df = pd.read_csv(input_file)\n",
        "\n",
        "#  Step 1: Handle missing values\n",
        "df['Item_Weight'].fillna(df['Item_Weight'].mean(), inplace=True)\n",
        "df['Outlet_Size'].fillna(df['Outlet_Size'].mode()[0], inplace=True)\n",
        "\n",
        "# Step 2: Remove duplicate rows\n",
        "df.drop_duplicates(inplace=True)\n",
        "\n",
        "#  Step 3: Standardize text values\n",
        "df['Item_Fat_Content'] = df['Item_Fat_Content'].replace({\n",
        "    'low fat': 'Low Fat',\n",
        "    'LF': 'Low Fat',\n",
        "    'reg': 'Regular'\n",
        "})\n",
        "\n",
        "#  Step 4: Rename column headers\n",
        "df.columns = df.columns.str.strip().str.lower().str.replace(' ', '_')\n",
        "\n",
        "#  Step 5: Fix data types\n",
        "df['item_weight'] = df['item_weight'].astype(float)\n",
        "df['item_mrp'] = df['item_mrp'].astype(float)\n",
        "df['outlet_establishment_year'] = df['outlet_establishment_year'].astype(int)\n",
        "\n",
        "#  Step 6: Save the cleaned data to a new CSV\n",
        "df.to_csv(output_file, index=False)\n",
        "\n",
        "print(f\"✅ Cleaned dataset saved as '{output_file}'\")\n"
      ],
      "metadata": {
        "colab": {
          "base_uri": "https://localhost:8080/"
        },
        "id": "3B07Ha6a2B-X",
        "outputId": "19fb71df-b471-428f-c8d5-921fbfc08141"
      },
      "execution_count": 2,
      "outputs": [
        {
          "output_type": "stream",
          "name": "stdout",
          "text": [
            "✅ Cleaned dataset saved as '/content/testnew.csv'\n"
          ]
        },
        {
          "output_type": "stream",
          "name": "stderr",
          "text": [
            "<ipython-input-2-639a7d20fa16>:10: FutureWarning: A value is trying to be set on a copy of a DataFrame or Series through chained assignment using an inplace method.\n",
            "The behavior will change in pandas 3.0. This inplace method will never work because the intermediate object on which we are setting values always behaves as a copy.\n",
            "\n",
            "For example, when doing 'df[col].method(value, inplace=True)', try using 'df.method({col: value}, inplace=True)' or df[col] = df[col].method(value) instead, to perform the operation inplace on the original object.\n",
            "\n",
            "\n",
            "  df['Item_Weight'].fillna(df['Item_Weight'].mean(), inplace=True)\n",
            "<ipython-input-2-639a7d20fa16>:11: FutureWarning: A value is trying to be set on a copy of a DataFrame or Series through chained assignment using an inplace method.\n",
            "The behavior will change in pandas 3.0. This inplace method will never work because the intermediate object on which we are setting values always behaves as a copy.\n",
            "\n",
            "For example, when doing 'df[col].method(value, inplace=True)', try using 'df.method({col: value}, inplace=True)' or df[col] = df[col].method(value) instead, to perform the operation inplace on the original object.\n",
            "\n",
            "\n",
            "  df['Outlet_Size'].fillna(df['Outlet_Size'].mode()[0], inplace=True)\n"
          ]
        }
      ]
    }
  ],
  "metadata": {
    "colab": {
      "provenance": [],
      "include_colab_link": true
    },
    "kernelspec": {
      "display_name": "Python 3",
      "name": "python3"
    }
  },
  "nbformat": 4,
  "nbformat_minor": 0
}
